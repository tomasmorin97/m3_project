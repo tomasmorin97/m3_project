{
 "cells": [
  {
   "cell_type": "markdown",
   "id": "e9ba23df",
   "metadata": {},
   "source": [
    "# Machine Learning: Modelo supervisado de regresión"
   ]
  },
  {
   "cell_type": "code",
   "execution_count": null,
   "id": "97c17dc5",
   "metadata": {},
   "outputs": [],
   "source": [
    "# Importar librerías\n",
    "\n",
    "import pandas as pd\n",
    "import numpy as np\n",
    "import seaborn as sns\n",
    "import matplotlib.pyplot as plt\n",
    "\n",
    "from sklearn.preprocessing import LabelEncoder\n",
    "from sklearn.preprocessing import OrdinalEncoder\n",
    "from sklearn.preprocessing import StandardScaler\n",
    "from sklearn.preprocessing import MinMaxScaler\n",
    "from sklearn.preprocessing import RobustScaler\n",
    "\n",
    "from sklearn.ensemble import RandomForestRegressor\n",
    "from sklearn.ensemble import GradientBoostingRegressor\n",
    "from xgboost import XGBRegressor\n",
    "\n",
    "from sklearn.model_selection import train_test_split\n",
    "from sklearn.model_selection import GridSearchCV\n",
    "from sklearn.model_selection import cross_val_score\n",
    "\n",
    "from sklearn.metrics import mean_squared_error"
   ]
  },
  {
   "cell_type": "markdown",
   "id": "2f1cba35",
   "metadata": {},
   "source": [
    "## Lectura de datos"
   ]
  },
  {
   "cell_type": "code",
   "execution_count": null,
   "id": "a41ac295",
   "metadata": {},
   "outputs": [],
   "source": [
    "diamonds_train = pd.read_csv('./data/diamonds_train.csv')\n",
    "diamonds_train.head()"
   ]
  },
  {
   "cell_type": "code",
   "execution_count": null,
   "id": "058e9eda",
   "metadata": {},
   "outputs": [],
   "source": [
    "columnas_reordenadas = ['carat', 'cut', 'color', 'clarity', 'depth', 'table', 'x', 'y', 'z', 'city', 'price']\n",
    "diamonds_train = diamonds_train[columnas_reordenadas]\n",
    "diamonds_train"
   ]
  },
  {
   "cell_type": "markdown",
   "id": "5aeddc8a",
   "metadata": {},
   "source": [
    "## Análisis exploratorio"
   ]
  },
  {
   "cell_type": "markdown",
   "id": "941b04ea",
   "metadata": {},
   "source": [
    "### General"
   ]
  },
  {
   "cell_type": "code",
   "execution_count": null,
   "id": "4689f2ea",
   "metadata": {},
   "outputs": [],
   "source": [
    "diamonds_train.info()"
   ]
  },
  {
   "cell_type": "code",
   "execution_count": null,
   "id": "97c846b9",
   "metadata": {},
   "outputs": [],
   "source": [
    "def cat_var(df, cols):\n",
    "    '''\n",
    "    Return: a Pandas dataframe object with the following columns:\n",
    "        - \"categorical_variable\" => every categorical variable include as an input parameter (string).\n",
    "        - \"number_of_possible_values\" => the amount of unique values that can take a given categorical variable (integer).\n",
    "        - \"values\" => a list with the posible unique values for every categorical variable (list).\n",
    "\n",
    "    Input parameters:\n",
    "        - df -> Pandas dataframe object: a dataframe with categorical variables.\n",
    "        - cols -> list object: a list with the name (string) of every categorical variable to analyse.\n",
    "    '''\n",
    "    cat_list = []\n",
    "    for col in cols:\n",
    "        cat = df[col].unique()\n",
    "        cat_num = len(cat)\n",
    "        cat_dict = {\"categorical_variable\":col,\n",
    "                    \"number_of_possible_values\":cat_num,\n",
    "                    \"values\":cat}\n",
    "        cat_list.append(cat_dict)\n",
    "    df = pd.DataFrame(cat_list).sort_values(by=\"number_of_possible_values\", ascending=False)\n",
    "    return df.reset_index(drop=True)"
   ]
  },
  {
   "cell_type": "code",
   "execution_count": null,
   "id": "0e8f6344",
   "metadata": {},
   "outputs": [],
   "source": [
    "col_diamonds_train = list(diamonds_train.columns)\n",
    "cat_diamonds_train = cat_var(diamonds_train, col_diamonds_train)\n",
    "cat_diamonds_train"
   ]
  },
  {
   "cell_type": "code",
   "execution_count": null,
   "id": "22720dcc",
   "metadata": {},
   "outputs": [],
   "source": [
    "diamonds_train.eq(0).sum()"
   ]
  },
  {
   "cell_type": "code",
   "execution_count": null,
   "id": "b938219a",
   "metadata": {},
   "outputs": [],
   "source": [
    "diamonds_train[(diamonds_train == 0).any(axis=1)]"
   ]
  },
  {
   "cell_type": "code",
   "execution_count": null,
   "id": "a21453cb",
   "metadata": {},
   "outputs": [],
   "source": [
    "# TRANSFORMAR X\n",
    "# Calcular la media agrupando por el campo 'carat'\n",
    "mediana_por_carat = diamonds_train.groupby('carat')['x'].transform('median')\n",
    "\n",
    "# Rellenar los valores en 'x' con la media correspondiente cuando 'x' es igual a 0\n",
    "diamonds_train.loc[diamonds_train['x'] == 0, 'x'] = mediana_por_carat\n",
    "\n",
    "# TRANSFORMAR Y\n",
    "# Calcular la media agrupando por el campo 'carat'\n",
    "mediana_por_carat = diamonds_train.groupby('carat')['y'].transform('median')\n",
    "\n",
    "# Rellenar los valores en 'x' con la media correspondiente cuando 'x' es igual a 0\n",
    "diamonds_train.loc[diamonds_train['y'] == 0, 'y'] = mediana_por_carat\n",
    "\n",
    "# TRANSFORMAR Z\n",
    "# Calcular la media agrupando por el campo 'carat'\n",
    "mediana_por_carat = diamonds_train.groupby('carat')['z'].transform('median')\n",
    "\n",
    "# Rellenar los valores en 'x' con la media correspondiente cuando 'x' es igual a 0\n",
    "diamonds_train.loc[diamonds_train['z'] == 0, 'z'] = mediana_por_carat\n",
    "\n"
   ]
  },
  {
   "cell_type": "code",
   "execution_count": null,
   "id": "d4c159bf",
   "metadata": {},
   "outputs": [],
   "source": [
    "diamonds_train.loc[6465]"
   ]
  },
  {
   "cell_type": "code",
   "execution_count": null,
   "id": "4bcbe81f",
   "metadata": {},
   "outputs": [],
   "source": [
    "diamonds_train[(diamonds_train == 0).any(axis=1)]"
   ]
  },
  {
   "cell_type": "code",
   "execution_count": null,
   "id": "8b691bd2",
   "metadata": {},
   "outputs": [],
   "source": [
    "diamonds_train.eq(0).sum()"
   ]
  },
  {
   "cell_type": "code",
   "execution_count": null,
   "id": "9d0ad099",
   "metadata": {},
   "outputs": [],
   "source": [
    "# Crear un gráfico de dispersión\n",
    "plt.figure(figsize=(8, 6))\n",
    "plt.scatter(diamonds_train['carat'], diamonds_train['price'], alpha=1, color='blue')\n",
    "\n",
    "# Personalizar el gráfico\n",
    "plt.title('Gráfico de Dispersión entre Carat y Price')\n",
    "plt.xlabel('Carat')\n",
    "plt.ylabel('Price')\n",
    "plt.grid(True)\n",
    "\n",
    "# Mostrar el gráfico\n",
    "plt.show()"
   ]
  },
  {
   "cell_type": "code",
   "execution_count": null,
   "id": "524de225",
   "metadata": {},
   "outputs": [],
   "source": [
    "# Crear un histplot\n",
    "sns.histplot(data=diamonds_train, x='carat', bins=20, kde=False, color='blue', edgecolor='black')\n",
    "\n",
    "# Personalizar el gráfico\n",
    "plt.title('Histplot de la Variable Numérica')\n",
    "plt.xlabel('Valor')\n",
    "plt.ylabel('Frecuencia')\n",
    "\n",
    "# Mostrar el gráfico\n",
    "plt.show()\n"
   ]
  },
  {
   "cell_type": "code",
   "execution_count": null,
   "id": "0292bbce",
   "metadata": {},
   "outputs": [],
   "source": []
  },
  {
   "cell_type": "markdown",
   "id": "672b38b2",
   "metadata": {},
   "source": [
    "### Variables categóricas"
   ]
  },
  {
   "cell_type": "code",
   "execution_count": null,
   "id": "a4df16ec",
   "metadata": {},
   "outputs": [],
   "source": [
    "diamonds_train['cut'].value_counts()\n",
    "# Habría que darles una ordinalidad de mejor a peor: Premium, Ideal, Very Good, Good, Fair (5-1)"
   ]
  },
  {
   "cell_type": "code",
   "execution_count": null,
   "id": "8180e7d0",
   "metadata": {},
   "outputs": [],
   "source": [
    "diamonds_train['clarity'].value_counts()\n",
    "# Se podrían agrupar por tipo de claridad"
   ]
  },
  {
   "cell_type": "code",
   "execution_count": null,
   "id": "6b0ce7bd",
   "metadata": {},
   "outputs": [],
   "source": [
    "diamonds_train['city'].value_counts()\n",
    "# Se podría agrupar por continente"
   ]
  },
  {
   "cell_type": "code",
   "execution_count": null,
   "id": "4e56f476",
   "metadata": {},
   "outputs": [],
   "source": [
    "diamonds_train['color'].value_counts()"
   ]
  },
  {
   "cell_type": "code",
   "execution_count": null,
   "id": "67a4601d",
   "metadata": {},
   "outputs": [],
   "source": [
    "sns.countplot(x='color', data=diamonds_train)\n",
    "plt.show()"
   ]
  },
  {
   "cell_type": "code",
   "execution_count": null,
   "id": "d6224de2",
   "metadata": {},
   "outputs": [],
   "source": [
    "diamonds_train.groupby('color')['price'].mean()"
   ]
  },
  {
   "cell_type": "markdown",
   "id": "b8cdfa0c",
   "metadata": {},
   "source": [
    "### Variables numéricas"
   ]
  },
  {
   "cell_type": "code",
   "execution_count": null,
   "id": "8b80a367",
   "metadata": {},
   "outputs": [],
   "source": [
    "diamonds_train.describe()"
   ]
  },
  {
   "cell_type": "code",
   "execution_count": null,
   "id": "dd936c67",
   "metadata": {},
   "outputs": [],
   "source": [
    "diamonds_train_num = diamonds_train.select_dtypes(include=['number'])\n",
    "diamonds_train_num"
   ]
  },
  {
   "cell_type": "code",
   "execution_count": null,
   "id": "bce37b3f",
   "metadata": {},
   "outputs": [],
   "source": [
    "sns.set_style(\"white\")\n",
    "sns.set_color_codes(palette='deep')\n",
    "f, ax = plt.subplots(figsize=(8, 7))\n",
    "#Check the new distribution \n",
    "sns.distplot(diamonds_train['price'], color=\"b\");\n",
    "ax.xaxis.grid(False)\n",
    "ax.set(ylabel=\"Frequency\")\n",
    "ax.set(xlabel=\"SalePrice\")\n",
    "ax.set(title=\"SalePrice distribution\")\n",
    "sns.despine(trim=True, left=True)\n",
    "plt.show()"
   ]
  },
  {
   "cell_type": "code",
   "execution_count": null,
   "id": "de35a319",
   "metadata": {},
   "outputs": [],
   "source": [
    "# Configurar el tamaño de la figura\n",
    "plt.figure(figsize=(3, 5))\n",
    "\n",
    "# Crear un boxplot para la variable \"price\"\n",
    "sns.boxplot(y=diamonds_train['price'])\n",
    "\n",
    "# Añadir etiquetas y título\n",
    "plt.xlabel('Price')\n",
    "plt.title('Boxplot de la Variable \"Price\"')\n",
    "\n",
    "# Mostrar el gráfico\n",
    "plt.show()"
   ]
  },
  {
   "cell_type": "code",
   "execution_count": null,
   "id": "523e6378",
   "metadata": {},
   "outputs": [],
   "source": [
    "# Configurar el tamaño de la figura\n",
    "plt.figure(figsize=(3, 5))\n",
    "\n",
    "# Crear un boxplot para la variable \"price\"\n",
    "sns.boxplot(y=diamonds_train1['depth'])\n",
    "\n",
    "# Añadir etiquetas y título\n",
    "plt.xlabel('depth')\n",
    "plt.title('Boxplot de la Variable \"depth\"')\n",
    "\n",
    "# Mostrar el gráfico\n",
    "plt.show()\n"
   ]
  },
  {
   "cell_type": "code",
   "execution_count": null,
   "id": "fd9c8d7e",
   "metadata": {},
   "outputs": [],
   "source": [
    "\n",
    "# Calcular el rango intercuartílico (IQR)\n",
    "Q1 = diamonds_train['depth'].quantile(0.25)\n",
    "Q3 = diamonds_train['depth'].quantile(0.75)\n",
    "IQR = Q3 - Q1\n",
    "\n",
    "# Definir límites para identificar outliers\n",
    "limite_inferior = Q1 - 10 * IQR\n",
    "#limite_superior = Q3 + 1.5 * IQR\n",
    "\n",
    "# Filtrar los datos para eliminar outliers\n",
    "diamonds_train = diamonds_train[(diamonds_train['depth'] >= limite_inferior) & (diamonds_train['depth'] <= limite_superior)]\n",
    "\n",
    "# Visualizar el DataFrame resultante sin outliers\n",
    "diamonds_train"
   ]
  },
  {
   "cell_type": "code",
   "execution_count": null,
   "id": "a3db3035",
   "metadata": {},
   "outputs": [],
   "source": [
    "# Configurar el tamaño de la figura\n",
    "plt.figure(figsize=(3, 5))\n",
    "\n",
    "# Crear un boxplot para la variable \"price\"\n",
    "sns.boxplot(y=diamonds_train['table'])\n",
    "\n",
    "# Añadir etiquetas y título\n",
    "plt.xlabel('table')\n",
    "plt.title('Boxplot de la Variable \"table\"')\n",
    "\n",
    "# Mostrar el gráfico\n",
    "plt.show()\n"
   ]
  },
  {
   "cell_type": "code",
   "execution_count": null,
   "id": "199105a3",
   "metadata": {},
   "outputs": [],
   "source": [
    "\n",
    "# Calcular el rango intercuartílico (IQR)\n",
    "Q1 = diamonds_train['table'].quantile(0.25)\n",
    "Q3 = diamonds_train['table'].quantile(0.75)\n",
    "IQR = Q3 - Q1\n",
    "\n",
    "# Definir límites para identificar outliers\n",
    "limite_inferior = Q1 - 2 * IQR\n",
    "limite_superior = Q3 + 4 * IQR\n",
    "\n",
    "# Filtrar los datos para eliminar outliers\n",
    "diamonds_train = diamonds_train[(diamonds_train['table'] >= limite_inferior) & (diamonds_train['table'] <= limite_superior)]\n",
    "\n",
    "# Visualizar el DataFrame resultante sin outliers\n",
    "diamonds_train"
   ]
  },
  {
   "cell_type": "code",
   "execution_count": null,
   "id": "6b58a1ad",
   "metadata": {},
   "outputs": [],
   "source": [
    "# Configurar el tamaño de la figura\n",
    "plt.figure(figsize=(3, 5))\n",
    "\n",
    "# Crear un boxplot para la variable \"price\"\n",
    "sns.boxplot(y=diamonds_train['carat'])\n",
    "\n",
    "# Añadir etiquetas y título\n",
    "plt.xlabel('table')\n",
    "plt.title('Boxplot de la Variable \"carat\"')\n",
    "\n",
    "# Mostrar el gráfico\n",
    "plt.show()"
   ]
  },
  {
   "cell_type": "code",
   "execution_count": null,
   "id": "ea2b5fd5",
   "metadata": {},
   "outputs": [],
   "source": [
    "\n",
    "# Calcular el rango intercuartílico (IQR)\n",
    "#Q1 = diamonds_train['carat'].quantile(0.25)\n",
    "#Q3 = diamonds_train['carat'].quantile(0.75)\n",
    "#IQR = Q3 - Q1\n",
    "\n",
    "# Definir límites para identificar outliers\n",
    "#limite_inferior = Q1 - 1.75 * IQR\n",
    "#limite_superior = Q3 + 1.75 * IQR\n",
    "\n",
    "# Filtrar los datos para eliminar outliers\n",
    "#diamonds_train = diamonds_train[(diamonds_train['carat'] <= limite_superior)]\n",
    "\n",
    "# Visualizar el DataFrame resultante sin outliers\n",
    "#diamonds_train"
   ]
  },
  {
   "cell_type": "code",
   "execution_count": null,
   "id": "2e9de117",
   "metadata": {},
   "outputs": [],
   "source": [
    "# Calcular la matriz de correlación\n",
    "correlation_matrix = diamonds_train_num.corr()\n",
    "\n",
    "# Configurar el tamaño de la figura\n",
    "plt.figure(figsize=(8, 6))\n",
    "\n",
    "# Crear un mapa de calor (heatmap) con seaborn\n",
    "sns.heatmap(correlation_matrix, annot=True, cmap='coolwarm', fmt=\".2f\", linewidths=.5)\n",
    "\n",
    "# Añadir título\n",
    "plt.title('Matriz de Correlación')\n",
    "\n",
    "# Mostrar el gráfico\n",
    "plt.show()"
   ]
  },
  {
   "cell_type": "code",
   "execution_count": null,
   "id": "69ec9df8",
   "metadata": {},
   "outputs": [],
   "source": [
    "# x, y, z muy correlacionadas. Habría que eliminar dos variables o hacer una media de las 3.\n",
    "# carat también muy correlacionada. Se puede eliminar o quizás habría que mantenerla porque está muy correlacionada con price\n",
    "# Eliminar la variable depth porque apenas tiene correlacion con la variable target y hay muchos outliers (ruido)"
   ]
  },
  {
   "cell_type": "markdown",
   "id": "d0db4897",
   "metadata": {},
   "source": [
    "## Transformación de variables"
   ]
  },
  {
   "cell_type": "markdown",
   "id": "1222fe03",
   "metadata": {},
   "source": [
    "### Eliminación variables"
   ]
  },
  {
   "cell_type": "code",
   "execution_count": null,
   "id": "2d66e7fd",
   "metadata": {},
   "outputs": [],
   "source": [
    "# Probamos con hacer una media entre x, y, z:\n",
    "#diamonds_train['mean'] = diamonds_train['x'] * diamonds_train['y'] * diamonds_train['z']\n",
    "#diamonds_train['mean'] = diamonds_train[['x','y','z']].mean(axis=1)\n",
    "#diamonds_train['mean']"
   ]
  },
  {
   "cell_type": "code",
   "execution_count": null,
   "id": "e2191e91",
   "metadata": {},
   "outputs": [],
   "source": [
    "#diamonds_train['mean_carat'] = diamonds_train['mean'] * diamonds_train['carat']"
   ]
  },
  {
   "cell_type": "code",
   "execution_count": null,
   "id": "a4f39524",
   "metadata": {},
   "outputs": [],
   "source": [
    "diamonds_train_num = diamonds_train.select_dtypes(include=['number'])\n",
    "diamonds_train_num"
   ]
  },
  {
   "cell_type": "code",
   "execution_count": null,
   "id": "35087251",
   "metadata": {},
   "outputs": [],
   "source": [
    "# Calcular la matriz de correlación\n",
    "correlation_matrix = diamonds_train_num.corr()\n",
    "\n",
    "# Configurar el tamaño de la figura\n",
    "plt.figure(figsize=(8, 6))\n",
    "\n",
    "# Crear un mapa de calor (heatmap) con seaborn\n",
    "sns.heatmap(correlation_matrix, annot=True, cmap='coolwarm', fmt=\".2f\", linewidths=.5)\n",
    "\n",
    "# Añadir título\n",
    "plt.title('Matriz de Correlación')\n",
    "\n",
    "# Mostrar el gráfico\n",
    "plt.show()"
   ]
  },
  {
   "cell_type": "code",
   "execution_count": null,
   "id": "67677afe",
   "metadata": {},
   "outputs": [],
   "source": [
    "diamonds_train.describe()"
   ]
  },
  {
   "cell_type": "code",
   "execution_count": null,
   "id": "0759c291",
   "metadata": {},
   "outputs": [],
   "source": [
    "# Eliminación de variables x, y , z y depth\n",
    "diamonds_train = diamonds_train.drop(columns=['city'])\n",
    "diamonds_train"
   ]
  },
  {
   "cell_type": "code",
   "execution_count": null,
   "id": "a2a5094f",
   "metadata": {},
   "outputs": [],
   "source": [
    "# Label encoder\n",
    "def ordinal_encoding(x):\n",
    "    for key in encoding:\n",
    "        if x == key:\n",
    "            return encoding[key]"
   ]
  },
  {
   "cell_type": "code",
   "execution_count": null,
   "id": "70d2fbeb",
   "metadata": {},
   "outputs": [],
   "source": [
    "# Label Encoding variable clarity\n",
    "encoding = {'IF': 8, 'VVS1':7, 'VVS2':6, 'VS1':5, 'VS2':4, 'SI1':3, 'SI2':2, 'I1':1}\n",
    "diamonds_train['clarity'] = diamonds_train['clarity'].apply(ordinal_encoding)\n",
    "# Label Encoding variable cut\n",
    "encoding = {'Premium': 4, 'Ideal':5, 'Very Good':3, 'Good':2, 'Fair':1}\n",
    "diamonds_train['cut'] = diamonds_train['cut'].apply(ordinal_encoding)\n",
    "# Label Encoding variable cut\n",
    "encoding = {'D': 7, 'E':6, 'F':5, 'G':4, 'H':3, 'I':2, 'J':1}\n",
    "diamonds_train['color'] = diamonds_train['color'].apply(ordinal_encoding)"
   ]
  },
  {
   "cell_type": "code",
   "execution_count": null,
   "id": "a7ccca3b",
   "metadata": {},
   "outputs": [],
   "source": [
    "\n",
    "# Inicializar el LabelEncoder\n",
    "#label_encoder = LabelEncoder()\n",
    "\n",
    "# Ajustar y transformar las etiquetas categóricas\n",
    "\n",
    "#diamonds_train['color'] = label_encoder.fit_transform(diamonds_train['color'])\n"
   ]
  },
  {
   "cell_type": "code",
   "execution_count": null,
   "id": "b9e33552",
   "metadata": {},
   "outputs": [],
   "source": [
    "# Calcular la matriz de correlación\n",
    "correlation_matrix = diamonds_train.corr()\n",
    "\n",
    "# Configurar el tamaño de la figura\n",
    "plt.figure(figsize=(8, 6))\n",
    "\n",
    "# Crear un mapa de calor (heatmap) con seaborn\n",
    "sns.heatmap(correlation_matrix, annot=True, cmap='coolwarm', fmt=\".2f\", linewidths=.5)\n",
    "\n",
    "# Añadir título\n",
    "plt.title('Matriz de Correlación')\n",
    "\n",
    "# Mostrar el gráfico\n",
    "plt.show()"
   ]
  },
  {
   "cell_type": "code",
   "execution_count": null,
   "id": "6be464dd",
   "metadata": {},
   "outputs": [],
   "source": [
    "# Nos quedamos con todo menos el target\n",
    "diamonds_train_x = diamonds_train.drop(columns=['price'])"
   ]
  },
  {
   "cell_type": "code",
   "execution_count": null,
   "id": "34ed43fd",
   "metadata": {},
   "outputs": [],
   "source": [
    "diamonds_train_y = diamonds_train['price']\n",
    "diamonds_train_y"
   ]
  },
  {
   "cell_type": "markdown",
   "id": "c87a8e2d",
   "metadata": {},
   "source": [
    "### Escalado"
   ]
  },
  {
   "cell_type": "code",
   "execution_count": null,
   "id": "6f507557",
   "metadata": {},
   "outputs": [],
   "source": [
    "scaler = MinMaxScaler()\n",
    "scaled_data = scaler.fit_transform(diamonds_train_x)\n",
    "diamonds_train_x_scaled = pd.DataFrame(scaled_data)\n",
    "diamonds_train_x_scaled"
   ]
  },
  {
   "cell_type": "markdown",
   "id": "bbacd36e",
   "metadata": {},
   "source": [
    "## Modelado"
   ]
  },
  {
   "cell_type": "markdown",
   "id": "99fc5c7f",
   "metadata": {},
   "source": [
    "### Random Forest"
   ]
  },
  {
   "cell_type": "code",
   "execution_count": null,
   "id": "6493ca8c",
   "metadata": {},
   "outputs": [],
   "source": [
    "%%time\n",
    "\n",
    "model_random = RandomForestRegressor(random_state = 42)\n",
    "\n",
    "\n",
    "scores = cross_val_score(model_random, \n",
    "                         diamonds_train_x, \n",
    "                         diamonds_train_y, \n",
    "                         scoring='neg_root_mean_squared_error', \n",
    "                         cv=5,\n",
    "                         n_jobs=-1)\n",
    "\n",
    "print(scores, '\\n')\n",
    "print(np.mean(-scores), '\\n')"
   ]
  },
  {
   "cell_type": "markdown",
   "id": "59d51f55",
   "metadata": {},
   "source": [
    "### XGBRegressor"
   ]
  },
  {
   "cell_type": "code",
   "execution_count": null,
   "id": "d672f5cb",
   "metadata": {},
   "outputs": [],
   "source": [
    "model_xgb = XGBRegressor(colsample_bytree = 0.95,\n",
    "                          gamma = 0.14,\n",
    "                          learning_rate = 0.012,\n",
    "                          max_depth = 7,\n",
    "                          missing = np.inf,\n",
    "                          n_estimators = 1130,\n",
    "                          subsample = 0.8, \n",
    "                         objective='reg:squarederror', random_state=42)"
   ]
  },
  {
   "cell_type": "markdown",
   "id": "db3e6a85",
   "metadata": {},
   "source": [
    "### RMSE - Cross Validation"
   ]
  },
  {
   "cell_type": "code",
   "execution_count": null,
   "id": "a7b45743",
   "metadata": {},
   "outputs": [],
   "source": [
    "%%time\n",
    "\n",
    "\n",
    "scores = cross_val_score(model_random, \n",
    "                         diamonds_train_x, \n",
    "                         diamonds_train_y, \n",
    "                         scoring='neg_root_mean_squared_error', \n",
    "                         cv=5,\n",
    "                         n_jobs=-1)\n",
    "\n",
    "print(scores, '\\n')\n",
    "print(np.mean(-scores), '\\n')"
   ]
  },
  {
   "cell_type": "markdown",
   "id": "a0ccad08",
   "metadata": {},
   "source": [
    "## Test"
   ]
  },
  {
   "cell_type": "code",
   "execution_count": null,
   "id": "6d3cf7b5",
   "metadata": {},
   "outputs": [],
   "source": [
    "diamonds_test_x = pd.read_csv('./data/diamonds_test.csv')\n",
    "diamonds_test_x.head()"
   ]
  },
  {
   "cell_type": "code",
   "execution_count": null,
   "id": "f73012e1",
   "metadata": {},
   "outputs": [],
   "source": [
    "# Configurar el tamaño de la figura\n",
    "plt.figure(figsize=(3, 5))\n",
    "\n",
    "# Crear un boxplot para la variable \"price\"\n",
    "sns.boxplot(y=diamonds_test_x['x'])\n",
    "\n",
    "# Añadir etiquetas y título\n",
    "plt.xlabel('carat')\n",
    "plt.title('Boxplot de la Variable \"carat\"')\n",
    "\n",
    "# Mostrar el gráfico\n",
    "plt.show()"
   ]
  },
  {
   "cell_type": "code",
   "execution_count": null,
   "id": "daaef652",
   "metadata": {},
   "outputs": [],
   "source": [
    "diamonds_test_x.eq(0).sum()"
   ]
  },
  {
   "cell_type": "code",
   "execution_count": null,
   "id": "8f1578ae",
   "metadata": {},
   "outputs": [],
   "source": [
    "# Probamos con hacer una media entre x, y, z:\n",
    "#diamonds_test_x['mean'] = diamonds_test_x[['x','y','z']].mean(axis=1)\n",
    "# Eliminacion de columnas id, x, y, z\n",
    "diamonds_test_x = diamonds_test_x.drop(columns=['id','city'])\n",
    "# Label Encoding variable clarity\n",
    "encoding = {'IF': 8, 'VVS1':7, 'VVS2':6, 'VS1':5, 'VS2':4, 'SI1':3, 'SI2':2, 'I1':1}\n",
    "diamonds_test_x['clarity'] = diamonds_test_x['clarity'].apply(ordinal_encoding)\n",
    "# Label Encoding variable cut\n",
    "encoding = {'Premium': 4, 'Ideal':5, 'Very Good':3, 'Good':2, 'Fair':1}\n",
    "diamonds_test_x['cut'] = diamonds_test_x['cut'].apply(ordinal_encoding)\n",
    "# Label Encoding variable cut\n",
    "encoding = {'D': 7, 'E':6, 'F':5, 'G':4, 'H':3, 'I':2, 'J':1}\n",
    "diamonds_test_x['color'] = diamonds_test_x['color'].apply(ordinal_encoding)\n",
    "diamonds_test_x"
   ]
  },
  {
   "cell_type": "code",
   "execution_count": null,
   "id": "4ab92ef7",
   "metadata": {},
   "outputs": [],
   "source": [
    "# TRANSFORMAR X\n",
    "# Calcular la media agrupando por el campo 'carat'\n",
    "mediana_por_carat = diamonds_test_x.groupby('carat')['x'].transform('median')\n",
    "\n",
    "# Rellenar los valores en 'x' con la media correspondiente cuando 'x' es igual a 0\n",
    "diamonds_test_x.loc[diamonds_test_x['x'] == 0, 'x'] = mediana_por_carat\n",
    "\n",
    "# TRANSFORMAR Y\n",
    "# Calcular la media agrupando por el campo 'carat'\n",
    "mediana_por_carat = diamonds_test_x.groupby('carat')['y'].transform('median')\n",
    "\n",
    "# Rellenar los valores en 'x' con la media correspondiente cuando 'x' es igual a 0\n",
    "diamonds_test_x.loc[diamonds_test_x['y'] == 0, 'y'] = mediana_por_carat\n",
    "\n",
    "# TRANSFORMAR Z\n",
    "# Calcular la media agrupando por el campo 'carat'\n",
    "mediana_por_carat = diamonds_train.groupby('carat')['z'].transform('median')\n",
    "\n",
    "# Rellenar los valores en 'x' con la media correspondiente cuando 'x' es igual a 0\n",
    "diamonds_test_x.loc[diamonds_test_x['z'] == 0, 'z'] = mediana_por_carat\n"
   ]
  },
  {
   "cell_type": "code",
   "execution_count": null,
   "id": "94c35a54",
   "metadata": {},
   "outputs": [],
   "source": [
    "# Calcular la matriz de correlación\n",
    "correlation_matrix = diamonds_test_x.corr()\n",
    "\n",
    "# Configurar el tamaño de la figura\n",
    "plt.figure(figsize=(8, 6))\n",
    "\n",
    "# Crear un mapa de calor (heatmap) con seaborn\n",
    "sns.heatmap(correlation_matrix, annot=True, cmap='coolwarm', fmt=\".2f\", linewidths=.5)\n",
    "\n",
    "# Añadir título\n",
    "plt.title('Matriz de Correlación')\n",
    "\n",
    "# Mostrar el gráfico\n",
    "plt.show()"
   ]
  },
  {
   "cell_type": "code",
   "execution_count": null,
   "id": "1fa61671",
   "metadata": {},
   "outputs": [],
   "source": [
    "# Escalado\n",
    "scaler = MinMaxScaler()\n",
    "scaled_data = scaler.fit_transform(diamonds_test_x)\n",
    "diamonds_test_x_scaled = pd.DataFrame(scaled_data)\n",
    "diamonds_test_x_scaled"
   ]
  },
  {
   "cell_type": "markdown",
   "id": "cff30a4b",
   "metadata": {},
   "source": [
    "## Submission"
   ]
  },
  {
   "cell_type": "code",
   "execution_count": null,
   "id": "7ddbdc12",
   "metadata": {},
   "outputs": [],
   "source": [
    "model_random.fit(diamonds_train_x, diamonds_train_y)\n",
    "y_pred = model_random.predict(diamonds_test_x)\n",
    "y_pred"
   ]
  },
  {
   "cell_type": "code",
   "execution_count": null,
   "id": "755abda2",
   "metadata": {},
   "outputs": [],
   "source": [
    "diamonds_test_x"
   ]
  },
  {
   "cell_type": "code",
   "execution_count": null,
   "id": "a0439e67",
   "metadata": {},
   "outputs": [],
   "source": [
    "diamonds_train_x"
   ]
  },
  {
   "cell_type": "code",
   "execution_count": null,
   "id": "c7cabd64",
   "metadata": {},
   "outputs": [],
   "source": [
    "diamonds_train_y"
   ]
  },
  {
   "cell_type": "code",
   "execution_count": null,
   "id": "2dabdcd4",
   "metadata": {},
   "outputs": [],
   "source": [
    "y_pred_df = pd.DataFrame(y_pred)\n",
    "y_pred_df.reset_index(inplace=True)\n",
    "y_pred_df.columns = ['id', 'price']\n",
    "y_pred_df.to_csv('./data/submisions1.csv', index=False)"
   ]
  },
  {
   "cell_type": "markdown",
   "id": "ccf4dfc7",
   "metadata": {},
   "source": [
    "## Grid Search"
   ]
  },
  {
   "cell_type": "code",
   "execution_count": null,
   "id": "a224b61d",
   "metadata": {},
   "outputs": [],
   "source": [
    "# Random Forest Regressor\n",
    "\n",
    "param_grid = {'n_estimators': [100, 200, 300],  # Number of trees in the forest.\n",
    "              'max_depth': [None, 3, 10],  # Maximum depth of the trees.\n",
    "              'min_samples_split': [2, 10],  # Minimum number of samples required to split an internal node.\n",
    "              'min_samples_leaf': [1, 4],  # Minimum number of samples required to be at a leaf node.\n",
    "              'max_features': [None, 'sqrt', 'log2']  # Number of features to consider when looking for the best split.\n",
    "              }"
   ]
  },
  {
   "cell_type": "code",
   "execution_count": null,
   "id": "8ca3a827",
   "metadata": {},
   "outputs": [],
   "source": []
  },
  {
   "cell_type": "code",
   "execution_count": null,
   "id": "91ff2856",
   "metadata": {},
   "outputs": [],
   "source": [
    "grid_search = GridSearchCV(model,\n",
    "                           param_grid,\n",
    "                           cv=5,\n",
    "                           verbose=3,\n",
    "                           scoring='neg_root_mean_squared_error',\n",
    "                           n_jobs=-1)"
   ]
  },
  {
   "cell_type": "code",
   "execution_count": null,
   "id": "42df2e21",
   "metadata": {},
   "outputs": [],
   "source": [
    "%%time\n",
    "\n",
    "grid_search.fit(diamonds_train_x_scaled,diamonds_train_y)\n",
    "\n",
    "print('\\n')\n",
    "print('Best hyperparameters: ', grid_search.best_params_, '\\n')\n",
    "print('Best score: ', -grid_search.best_score_, '\\n')"
   ]
  },
  {
   "cell_type": "code",
   "execution_count": null,
   "id": "c05b36ed",
   "metadata": {},
   "outputs": [],
   "source": [
    "y_pred = model.predict(diamonds_test_x_scaled)"
   ]
  },
  {
   "cell_type": "code",
   "execution_count": null,
   "id": "f050452e",
   "metadata": {},
   "outputs": [],
   "source": [
    "# Random Forest Regressor\n",
    "\n",
    "param_grid = {'n_estimators': [500,700, 900],  # Number of trees in the forest.\n",
    "              'max_depth': [None],  # Maximum depth of the trees.\n",
    "              'min_samples_split': [5, 6, 8],  # Minimum number of samples required to split an internal node.\n",
    "              'min_samples_leaf': [1],  # Minimum number of samples required to be at a leaf node.\n",
    "              'max_features': [None]  # Number of features to consider when looking for the best split.\n",
    "             }"
   ]
  },
  {
   "cell_type": "code",
   "execution_count": null,
   "id": "a3ae9fda",
   "metadata": {},
   "outputs": [],
   "source": [
    "%%time\n",
    "\n",
    "grid_search.fit(diamonds_train_x_scaled,diamonds_train_y)\n",
    "\n",
    "print('\\n')\n",
    "print('Best hyperparameters: ', grid_search.best_params_, '\\n')\n",
    "print('Best score: ', -grid_search.best_score_, '\\n')"
   ]
  },
  {
   "cell_type": "code",
   "execution_count": null,
   "id": "2f78c453",
   "metadata": {},
   "outputs": [],
   "source": []
  }
 ],
 "metadata": {
  "kernelspec": {
   "display_name": "Python (m3_env)",
   "language": "python",
   "name": "m3_env"
  },
  "language_info": {
   "codemirror_mode": {
    "name": "ipython",
    "version": 3
   },
   "file_extension": ".py",
   "mimetype": "text/x-python",
   "name": "python",
   "nbconvert_exporter": "python",
   "pygments_lexer": "ipython3",
   "version": "3.8.18"
  }
 },
 "nbformat": 4,
 "nbformat_minor": 5
}
